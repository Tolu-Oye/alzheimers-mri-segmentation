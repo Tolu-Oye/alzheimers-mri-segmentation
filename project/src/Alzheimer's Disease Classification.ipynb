{
 "cells": [
  {
   "cell_type": "markdown",
   "id": "2fa13b7c",
   "metadata": {},
   "source": [
    "# Alzheimer's Disease Classification"
   ]
  },
  {
   "cell_type": "markdown",
   "id": "30f69dc8",
   "metadata": {},
   "source": [
    "We trained a deep learning model such as use InceptionV3 on the training set of MRI images, with the corresponding class labels (i.e. Mild Demented, Moderate Demented, Non Demented, and Very Mild Demented) as the ground truth. The model can then be used to predict the class of MRI images in the testing set. The accuracy of the classification can be evaluated by comparing the predicted class labels with the true class labels of the testing set. The model can be fine-tuned using various hyperparameters, such as learning rate, number of layers, and batch size, to improve its accuracy."
   ]
  },
  {
   "cell_type": "markdown",
   "id": "7fa781a9",
   "metadata": {},
   "source": [
    "### 1. Libraries"
   ]
  },
  {
   "cell_type": "markdown",
   "id": "d7b5605e",
   "metadata": {},
   "source": [
    "All the necessary libraries that need to be installed to run the code:\n",
    "\n",
    "- os\n",
    "- numpy\n",
    "- matplotlib\n",
    "- distutils\n",
    "- sklearn\n",
    "- tensorflow\n",
    "- tensorflow_addons\n",
    "- imblearn"
   ]
  },
  {
   "cell_type": "code",
   "execution_count": null,
   "id": "23934033",
   "metadata": {},
   "outputs": [],
   "source": [
    "import os\n",
    "import numpy as np\n",
    "import tensorflow as tf\n",
    "import tensorflow_addons as tfa\n",
    "\n",
    "from distutils.dir_util import copy_tree\n",
    "from sklearn.model_selection import train_test_split\n",
    "from sklearn.utils import shuffle\n",
    "from sklearn.metrics import classification_report, confusion_matrix\n",
    "from tensorflow.keras.preprocessing.image import ImageDataGenerator as IDG\n",
    "from tensorflow.keras.models import Sequential\n",
    "from tensorflow.keras.layers import Input, Conv2D, MaxPool2D, Dense, Flatten, Dropout, BatchNormalization\n",
    "from tensorflow.keras.callbacks import EarlyStopping\n",
    "from imblearn.over_sampling import SMOTE"
   ]
  },
  {
   "cell_type": "markdown",
   "id": "44333b9c",
   "metadata": {},
   "source": [
    "### 2. Prepare Data"
   ]
  },
  {
   "cell_type": "code",
   "execution_count": null,
   "id": "1d621cb9",
   "metadata": {},
   "outputs": [],
   "source": [
    "def prepare_data(base_dir, train_dir, test_dir, work_dir, img_size, zoom_range, brightness_range, horizontal_flip, fill_mode, data_format):\n",
    "    \n",
    "    # Check if the work_dir exists, if not, create it\n",
    "    if not os.path.exists(work_dir):\n",
    "        os.makedirs(work_dir)\n",
    "\n",
    "    # Copy train and test data into the work directory\n",
    "    copy_tree(train_dir, work_dir)\n",
    "    copy_tree(test_dir, work_dir)\n",
    "\n",
    "    # Define image augmentation parameters\n",
    "    image_augmenter = IDG(\n",
    "        rescale=1./255,\n",
    "        brightness_range=brightness_range,\n",
    "        zoom_range=zoom_range,\n",
    "        data_format=data_format,\n",
    "        fill_mode=fill_mode,\n",
    "        horizontal_flip=horizontal_flip\n",
    "    )\n",
    "    \n",
    "    # Generate augmented training data\n",
    "    train_data_gen = image_augmenter.flow_from_directory(\n",
    "        directory=work_dir,\n",
    "        target_size=img_size,\n",
    "        batch_size=6500,\n",
    "        shuffle=False\n",
    "    )\n",
    "    \n",
    "    # Extract data and labels from the augmented training data\n",
    "    train_data, train_labels = train_data_gen.next()\n",
    "    \n",
    "    # Apply SMOTE to balance the dataset\n",
    "    smote = SMOTE(random_state=42)\n",
    "    flattened_data = train_data.reshape(-1, np.prod(img_size) * 3)  # Reshape data to 2D array\n",
    "    flattened_data, train_labels = smote.fit_resample(flattened_data, train_labels)  # Apply SMOTE\n",
    "    train_data = flattened_data.reshape(-1, *img_size, 3)  # Reshape data back to 3D array\n",
    "\n",
    "    # Split the data into train, validation, and test sets\n",
    "    train_data, test_data, train_labels, test_labels = train_test_split(train_data, train_labels, test_size=0.2, random_state=42)\n",
    "    train_data, val_data, train_labels, val_labels = train_test_split(train_data, train_labels, test_size=0.2, random_state=42)\n",
    "\n",
    "    return train_data, val_data, test_data, train_labels, val_labels, test_labels\n"
   ]
  },
  {
   "cell_type": "markdown",
   "id": "4a394326",
   "metadata": {},
   "source": [
    "**TODO**: To use this code, please change the *base_directory* variable to the path where you have saved the Alzheimer's dataset."
   ]
  },
  {
   "cell_type": "code",
   "execution_count": null,
   "id": "013bf54b",
   "metadata": {},
   "outputs": [],
   "source": [
    "# folder = \"YOUR FOLDER\""
   ]
  },
  {
   "cell_type": "code",
   "execution_count": null,
   "id": "c9553b60",
   "metadata": {},
   "outputs": [],
   "source": [
    "# Using Google Drive\n",
    "\n",
    "# from google.colab import drive\n",
    "# drive.mount('/content/drive')\n",
    "\n",
    "# folder = \"/content/drive/MyDrive\""
   ]
  },
  {
   "cell_type": "code",
   "execution_count": null,
   "id": "493ffd29",
   "metadata": {},
   "outputs": [],
   "source": [
    "base_directory = folder + \"/alzheimers-dataset-4-class-of-images/Alzheimer_s Dataset/\""
   ]
  },
  {
   "cell_type": "code",
   "execution_count": null,
   "id": "22bed88b",
   "metadata": {},
   "outputs": [],
   "source": [
    "root_directory = \"./\"\n",
    "test_directory = base_directory + \"test/\"\n",
    "train_directory = base_directory + \"train/\"\n",
    "work_directory = root_directory + \"dataset/\"\n",
    "\n",
    "image_size = (176, 176)"
   ]
  },
  {
   "cell_type": "code",
   "execution_count": null,
   "id": "d274a1e8",
   "metadata": {},
   "outputs": [],
   "source": [
    "# Prepare data\n",
    "train_data, val_data, test_data, train_labels, val_labels, test_labels = prepare_data(base_directory, train_directory, test_directory, work_directory, image_size, [0.99, 1.01], [0.8, 1.2], True, \"constant\", \"channels_last\")"
   ]
  },
  {
   "cell_type": "markdown",
   "id": "8d32ab72",
   "metadata": {},
   "source": [
    "Expect output:\n",
    "\n",
    "Found 6400 images belonging to 4 classes."
   ]
  },
  {
   "cell_type": "markdown",
   "id": "c01c586b",
   "metadata": {},
   "source": [
    "### 3. Model Construction"
   ]
  },
  {
   "cell_type": "code",
   "execution_count": null,
   "id": "cdf0f596",
   "metadata": {},
   "outputs": [],
   "source": [
    "def construct_model(image_size, activation='relu'):\n",
    "    # Convolutional block\n",
    "    def conv_block(filters, act=activation):\n",
    "        block = Sequential()\n",
    "        block.add(Conv2D(filters, 3, activation=act, padding='same'))\n",
    "        block.add(Conv2D(filters, 3, activation=act, padding='same'))\n",
    "        block.add(BatchNormalization())\n",
    "        block.add(MaxPool2D())\n",
    "        return block\n",
    "\n",
    "    # Dense block\n",
    "    def dense_block(units, dropout_rate, act=activation):\n",
    "        block = Sequential()\n",
    "        block.add(Dense(units, activation=act))\n",
    "        block.add(BatchNormalization())\n",
    "        block.add(Dropout(dropout_rate))\n",
    "        return block\n",
    "    \n",
    "    # Model architecture\n",
    "    model = Sequential([\n",
    "        Input(shape=(*image_size, 3)),\n",
    "        Conv2D(16, 3, activation=activation, padding='same'),\n",
    "        Conv2D(16, 3, activation=activation, padding='same'),\n",
    "        MaxPool2D(),\n",
    "        conv_block(32),\n",
    "        conv_block(64),\n",
    "        conv_block(128),\n",
    "        Dropout(0.2),\n",
    "        conv_block(256),\n",
    "        Dropout(0.2),\n",
    "        Flatten(),\n",
    "        dense_block(512, 0.7),\n",
    "        dense_block(128, 0.5),\n",
    "        dense_block(64, 0.3),\n",
    "        Dense(4, activation='softmax')\n",
    "        ], name=\"cnn_model\")\n",
    "    return model"
   ]
  },
  {
   "cell_type": "markdown",
   "id": "ea050ffc",
   "metadata": {},
   "source": [
    "### 4. Model"
   ]
  },
  {
   "cell_type": "code",
   "execution_count": null,
   "id": "db24ba11",
   "metadata": {},
   "outputs": [],
   "source": [
    "model = construct_model(image_size)"
   ]
  },
  {
   "cell_type": "code",
   "execution_count": null,
   "id": "523c5403",
   "metadata": {},
   "outputs": [],
   "source": [
    "# Defining a custom callback function\n",
    "class MyCallback(tf.keras.callbacks.Callback):\n",
    "    def on_epoch_end(self, epoch, logs={}):\n",
    "        if logs.get('val_acc') > 0.99:\n",
    "            print(\"\\nReached accuracy threshold! Terminating training.\")\n",
    "            self.model.stop_training = True\n",
    "            \n",
    "my_callback = MyCallback()\n",
    "\n",
    "# EarlyStopping callback\n",
    "early_stopping = EarlyStopping(monitor='val_loss', patience=2)"
   ]
  },
  {
   "cell_type": "markdown",
   "id": "aaa69821",
   "metadata": {},
   "source": [
    "### 5. Metrics"
   ]
  },
  {
   "cell_type": "code",
   "execution_count": null,
   "id": "44061da4",
   "metadata": {},
   "outputs": [],
   "source": [
    "METRICS = [tf.keras.metrics.CategoricalAccuracy(name='acc'),\n",
    "           tf.keras.metrics.AUC(name='auc'), \n",
    "           tfa.metrics.F1Score(num_classes=4)]\n",
    "CALLBACKS = [my_callback]\n",
    "model.compile(optimizer='adam',\n",
    "              loss=tf.losses.CategoricalCrossentropy(),\n",
    "              metrics=METRICS)\n",
    "model.summary()"
   ]
  },
  {
   "cell_type": "markdown",
   "id": "16255e66",
   "metadata": {},
   "source": [
    "Expect output:"
   ]
  },
  {
   "cell_type": "markdown",
   "id": "f65bca2b",
   "metadata": {},
   "source": [
    "Model: \"cnn_model\"\n",
    "\n",
    "|Layer (type)|Output Shape|Param #|\n",
    "|---|---|---|\n",
    "|conv2d_1 (Conv2D)|\t(None, 176, 176, 16)|\t2320|\n",
    "|max_pooling2d (MaxPooling2D)|\t(None, 88, 88, 16)|\t0|\n",
    "|sequential (Sequential)|\t(None, 44, 44, 32)|\t14016|\n",
    "|sequential_1 (Sequential)|\t(None, 22, 22, 64)|\t55680|\n",
    "|sequential_2 (Sequential)|\t(None, 11, 11, 128)|\t221952|\n",
    "|dropout (Dropout)|\t(None, 11, 11, 128)|\t0|\n",
    "|sequential_3 (Sequential)|\t(None, 5, 5, 256)|\t886272|\n",
    "|dropout_1 (Dropout)|\t(None, 5, 5, 256)|\t0|\n",
    "|flatten (Flatten)|\t(None, 6400)|\t0|\n",
    "|sequential_4 (Sequential)|\t(None, 512)|\t3279360|\n",
    "|sequential_5 (Sequential)|\t(None, 128)|\t66176|\n",
    "|sequential_6 (Sequential)|\t(None, 64)|\t8512|\n",
    "|dense_3 (Dense)|\t(None, 4)|\t260|\n",
    "\n",
    "Total params: 4,534,996\n",
    "\n",
    "Trainable params: 4,532,628\n",
    "\n",
    "Non-trainable params: 2,368"
   ]
  },
  {
   "cell_type": "markdown",
   "id": "6a4609ea",
   "metadata": {},
   "source": [
    "### 6. Train"
   ]
  },
  {
   "cell_type": "code",
   "execution_count": null,
   "id": "ff01c1f3",
   "metadata": {},
   "outputs": [],
   "source": [
    "history = model.fit(train_data, train_labels, validation_data=(val_data, val_labels), callbacks=CALLBACKS, epochs=100)"
   ]
  },
  {
   "cell_type": "markdown",
   "id": "44985608",
   "metadata": {},
   "source": [
    "Expect output:\n",
    "\n",
    "Epoch 1/100\n",
    "\n",
    "256/256 [==============================] - 22s 54ms/step - loss: 1.8563 - acc: 0.2845 - auc: 0.5456 - f1_score: 0.2828 - val_loss: 5.0652 - val_acc: 0.2402 - val_auc: 0.5055 - val_f1_score: 0.0969\n",
    "\n",
    "Epoch 2/100\n",
    "\n",
    "256/256 [==============================] - 13s 50ms/step - loss: 1.0740 - acc: 0.5216 - auc: 0.7932 - f1_score: 0.5074 - val_loss: 1.7626 - val_acc: 0.3462 - val_auc: 0.6271 - val_f1_score: 0.2902\n",
    "\n",
    "...\n",
    "\n",
    "..."
   ]
  },
  {
   "cell_type": "markdown",
   "id": "f013870d",
   "metadata": {},
   "source": [
    "### 7. Results"
   ]
  },
  {
   "cell_type": "code",
   "execution_count": null,
   "id": "9475b57b",
   "metadata": {},
   "outputs": [],
   "source": [
    "fig, ax = plt.subplots(1, 3, figsize = (30, 5))\n",
    "ax = ax.ravel()\n",
    "for i, metric in enumerate([\"acc\", \"auc\", \"loss\"]):\n",
    "    ax[i].plot(history.history[metric])\n",
    "    ax[i].plot(history.history[\"val_\" + metric])\n",
    "    ax[i].set_title(\"Model {}\".format(metric))\n",
    "    ax[i].set_xlabel(\"Epochs\")\n",
    "    ax[i].set_ylabel(metric)\n",
    "    ax[i].legend([\"train\", \"val\"])"
   ]
  },
  {
   "attachments": {
    "download-2.png": {
     "image/png": "[encoded data removed]"
    }
   },
   "cell_type": "markdown",
   "id": "d5e040b4",
   "metadata": {},
   "source": [
    "Expect output:\n",
    "\n",
    "![download-2.png](attachment:download-2.png)"
   ]
  },
  {
   "cell_type": "code",
   "execution_count": null,
   "id": "986f6f16",
   "metadata": {},
   "outputs": [],
   "source": [
    "# Evaluating the model on the data\n",
    "test_scores = model.evaluate(test_data, test_labels)\n",
    "print(\"Testing Accuracy: %.2f%%\"%(test_scores[1] * 100))"
   ]
  },
  {
   "cell_type": "markdown",
   "id": "7f0d1c15",
   "metadata": {},
   "source": [
    "Expect output:\n",
    "\n",
    "80/80 [==============================] - 1s 15ms/step - loss: 0.3572 - acc: 0.9238 - auc: 0.9777 - f1_score: 0.9231\n",
    "\n",
    "Testing Accuracy: 92.38%"
   ]
  },
  {
   "cell_type": "code",
   "execution_count": null,
   "id": "a5cca319",
   "metadata": {},
   "outputs": [],
   "source": [
    "# Predicting the test data\n",
    "pred_labels = model.predict(test_data)\n",
    "\n",
    "def round(arr):\n",
    "    \"\"\"To round off according to the argmax of each predicted label array using an alternative method.\"\"\"\n",
    "    return np.eye(arr.shape[1])[np.argmax(arr, axis=1)]\n",
    "\n",
    "pred_labels_rounded = round(pred_labels)\n",
    "print(classification_report(test_labels, pred_labels_rounded, target_names=CLASSES))\n",
    "\n",
    "print(\"Balanced Accuracy Score: {} %\".format(round(BAS(test_ls, pred_ls) * 100, 2)))\n",
    "print(\"Matthew's Correlation Coefficient: {} %\".format(round(MCC(test_ls, pred_ls) * 100, 2)))"
   ]
  },
  {
   "cell_type": "markdown",
   "id": "90d14f72",
   "metadata": {},
   "source": [
    "Expect output:\n",
    "\n",
    "Balanced Accuracy Score: 93.46 %\n",
    "\n",
    "Matthew's Correlation Coefficient: 91.61 %"
   ]
  },
  {
   "cell_type": "markdown",
   "id": "d9fce687",
   "metadata": {},
   "source": [
    "Data source: Kaggle, Alzheimer's Dataset ( 4 class of Images)"
   ]
  }
 ],
 "metadata": {
  "kernelspec": {
   "display_name": "Python 3 (ipykernel)",
   "language": "python",
   "name": "python3"
  },
  "language_info": {
   "codemirror_mode": {
    "name": "ipython",
    "version": 3
   },
   "file_extension": ".py",
   "mimetype": "text/x-python",
   "name": "python",
   "nbconvert_exporter": "python",
   "pygments_lexer": "ipython3",
   "version": "3.9.16"
  }
 },
 "nbformat": 4,
 "nbformat_minor": 5
}
